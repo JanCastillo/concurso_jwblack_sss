{
 "cells": [
  {
   "cell_type": "code",
   "execution_count": 1,
   "metadata": {},
   "outputs": [],
   "source": [
    "import os\n",
    "import pandas as pd\n",
    "import numpy as np"
   ]
  },
  {
   "cell_type": "code",
   "execution_count": 2,
   "metadata": {},
   "outputs": [],
   "source": [
    "df1 = pd.read_excel('TP_pivot_JWBLACK.xlsx')"
   ]
  },
  {
   "cell_type": "code",
   "execution_count": 3,
   "metadata": {},
   "outputs": [],
   "source": [
    "#df1.info(verbose=True)"
   ]
  },
  {
   "cell_type": "code",
   "execution_count": 4,
   "metadata": {},
   "outputs": [],
   "source": [
    "df2 = df1.loc[df1['Tipo de tienda'] != 'CONVENIENCIA']"
   ]
  },
  {
   "cell_type": "code",
   "execution_count": 5,
   "metadata": {},
   "outputs": [],
   "source": [
    "df3 = df2[['Store Number','SEMANA','City','State','Tipo de tienda','Region','Retailer','CADENA',\n",
    "'ruta','Area Manager','Area Executive','ARETE','CABECERA','EXHIBIDORES','ISLA','MAMUT','PALLET','PASTELERO','PDQ']]"
   ]
  },
  {
   "cell_type": "code",
   "execution_count": 6,
   "metadata": {},
   "outputs": [],
   "source": [
    "weeks = [22]"
   ]
  },
  {
   "cell_type": "code",
   "execution_count": 7,
   "metadata": {},
   "outputs": [],
   "source": [
    "weeks_headers = ['week22'] #length must be the same as previous line"
   ]
  },
  {
   "cell_type": "code",
   "execution_count": 8,
   "metadata": {},
   "outputs": [],
   "source": [
    "df4 = df3[df3['SEMANA'].isin(weeks)]"
   ]
  },
  {
   "cell_type": "code",
   "execution_count": 9,
   "metadata": {},
   "outputs": [],
   "source": [
    "df5 = df4.groupby(['Store Number','SEMANA','City','State','Tipo de tienda','Region','Retailer','CADENA','ruta',\n",
    "'Area Manager','Area Executive']).sum().reset_index()"
   ]
  },
  {
   "cell_type": "code",
   "execution_count": 10,
   "metadata": {},
   "outputs": [],
   "source": [
    "df5['Score VDM'] = df5['ARETE']*2"
   ]
  },
  {
   "cell_type": "code",
   "execution_count": 11,
   "metadata": {},
   "outputs": [],
   "source": [
    "df5['Cabecera Score'] = df5['CABECERA']*4"
   ]
  },
  {
   "cell_type": "code",
   "execution_count": 12,
   "metadata": {},
   "outputs": [],
   "source": [
    "df5['Exhibidores Score'] = df5['EXHIBIDORES']*5"
   ]
  },
  {
   "cell_type": "code",
   "execution_count": 13,
   "metadata": {},
   "outputs": [],
   "source": [
    "df5['Isla Score'] = df5['ISLA']*3"
   ]
  },
  {
   "cell_type": "code",
   "execution_count": 14,
   "metadata": {},
   "outputs": [],
   "source": [
    "df5['Mamut Score'] = df5['MAMUT']*3"
   ]
  },
  {
   "cell_type": "code",
   "execution_count": 15,
   "metadata": {},
   "outputs": [],
   "source": [
    "df5['Pallet Score'] = df5['PALLET']*3"
   ]
  },
  {
   "cell_type": "code",
   "execution_count": 16,
   "metadata": {},
   "outputs": [],
   "source": [
    "df5['Pastelero Score'] = df5['PASTELERO']*3"
   ]
  },
  {
   "cell_type": "code",
   "execution_count": 17,
   "metadata": {},
   "outputs": [],
   "source": [
    "df5['PDQ Score'] = df5['PDQ']*3"
   ]
  },
  {
   "cell_type": "code",
   "execution_count": 18,
   "metadata": {},
   "outputs": [],
   "source": [
    "df5['Total Score'] = df5['Arete Score'] + df5['Cabecera Score'] + df5['Exhibidores Score'] + df5['Isla Score'] + df5['Mamut Score'] + df5['Pallet Score'] + df5['Pastelero Score'] + df5['PDQ Score']"
   ]
  },
  {
   "cell_type": "code",
   "execution_count": 19,
   "metadata": {},
   "outputs": [],
   "source": [
    "df_score = df5[['Store Number','ruta','SEMANA',\n",
    "'Arete Score','Cabecera Score','Exhibidores Score','Isla Score','Mamut Score','Pallet Score','Pastelero Score','PDQ Score',\n",
    "'Total Score']]"
   ]
  },
  {
   "cell_type": "code",
   "execution_count": 20,
   "metadata": {},
   "outputs": [],
   "source": [
    "df_score_ruta = df_score.groupby(['ruta','SEMANA']).agg({\n",
    "'Store Number': 'count',\n",
    "'Arete Score': 'sum',\n",
    "'Cabecera Score': 'sum',\n",
    "'Exhibidores Score': 'sum',\n",
    "'Isla Score': 'sum',\n",
    "'Mamut Score': 'sum',\n",
    "'Pallet Score': 'sum',\n",
    "'Pastelero Score': 'sum',\n",
    "'PDQ Score': 'sum',\n",
    "'Total Score': 'sum'\n",
    "}).reset_index()"
   ]
  },
  {
   "cell_type": "code",
   "execution_count": 21,
   "metadata": {},
   "outputs": [],
   "source": [
    "df_score_ruta = df_score_ruta[['ruta','SEMANA','Total Score']]"
   ]
  },
  {
   "cell_type": "code",
   "execution_count": 22,
   "metadata": {},
   "outputs": [],
   "source": [
    "pivot_weekly_score = pd.pivot_table(df_score_ruta,\n",
    "index=['ruta'],\n",
    "columns=['SEMANA'], aggfunc='sum', fill_value=0).reset_index()"
   ]
  },
  {
   "cell_type": "code",
   "execution_count": 23,
   "metadata": {},
   "outputs": [],
   "source": [
    "pivot_weekly_score.columns = pivot_weekly_score.columns.get_level_values(0)"
   ]
  },
  {
   "cell_type": "code",
   "execution_count": 24,
   "metadata": {},
   "outputs": [],
   "source": [
    "pivot_weekly_score.columns = pivot_weekly_score.columns[:1].tolist() + weeks_headers"
   ]
  },
  {
   "cell_type": "code",
   "execution_count": 25,
   "metadata": {},
   "outputs": [],
   "source": [
    "df_leaderboard = pivot_weekly_score"
   ]
  },
  {
   "cell_type": "code",
   "execution_count": 26,
   "metadata": {},
   "outputs": [],
   "source": [
    "df_leaderboard['Final Score'] = df_leaderboard.sum(axis=1, numeric_only=True)"
   ]
  },
  {
   "cell_type": "code",
   "execution_count": 27,
   "metadata": {},
   "outputs": [],
   "source": [
    "df_leaderboard = df_leaderboard.sort_values(by='Final Score', ascending=False)"
   ]
  },
  {
   "cell_type": "code",
   "execution_count": 28,
   "metadata": {},
   "outputs": [],
   "source": [
    "df_leaderboard['Lugar'] = np.arange(1,len(df_leaderboard)+1)"
   ]
  },
  {
   "cell_type": "code",
   "execution_count": 29,
   "metadata": {},
   "outputs": [
    {
     "data": {
      "text/html": [
       "<div>\n",
       "<style scoped>\n",
       "    .dataframe tbody tr th:only-of-type {\n",
       "        vertical-align: middle;\n",
       "    }\n",
       "\n",
       "    .dataframe tbody tr th {\n",
       "        vertical-align: top;\n",
       "    }\n",
       "\n",
       "    .dataframe thead th {\n",
       "        text-align: right;\n",
       "    }\n",
       "</style>\n",
       "<table border=\"1\" class=\"dataframe\">\n",
       "  <thead>\n",
       "    <tr style=\"text-align: right;\">\n",
       "      <th></th>\n",
       "      <th>ruta</th>\n",
       "      <th>week22</th>\n",
       "      <th>Final Score</th>\n",
       "      <th>Lugar</th>\n",
       "    </tr>\n",
       "  </thead>\n",
       "  <tbody>\n",
       "    <tr>\n",
       "      <th>265</th>\n",
       "      <td>PROM.SEM.98</td>\n",
       "      <td>87</td>\n",
       "      <td>87</td>\n",
       "      <td>1</td>\n",
       "    </tr>\n",
       "    <tr>\n",
       "      <th>264</th>\n",
       "      <td>PROM.SEM.97</td>\n",
       "      <td>86</td>\n",
       "      <td>86</td>\n",
       "      <td>2</td>\n",
       "    </tr>\n",
       "    <tr>\n",
       "      <th>164</th>\n",
       "      <td>PROM.SEM.305</td>\n",
       "      <td>75</td>\n",
       "      <td>75</td>\n",
       "      <td>3</td>\n",
       "    </tr>\n",
       "    <tr>\n",
       "      <th>186</th>\n",
       "      <td>PROM.SEM.325</td>\n",
       "      <td>67</td>\n",
       "      <td>67</td>\n",
       "      <td>4</td>\n",
       "    </tr>\n",
       "    <tr>\n",
       "      <th>36</th>\n",
       "      <td>PROM.SEM.143</td>\n",
       "      <td>62</td>\n",
       "      <td>62</td>\n",
       "      <td>5</td>\n",
       "    </tr>\n",
       "  </tbody>\n",
       "</table>\n",
       "</div>"
      ],
      "text/plain": [
       "             ruta  week22  Final Score  Lugar\n",
       "265   PROM.SEM.98      87           87      1\n",
       "264   PROM.SEM.97      86           86      2\n",
       "164  PROM.SEM.305      75           75      3\n",
       "186  PROM.SEM.325      67           67      4\n",
       "36   PROM.SEM.143      62           62      5"
      ]
     },
     "execution_count": 29,
     "metadata": {},
     "output_type": "execute_result"
    }
   ],
   "source": [
    "df_leaderboard.head() #portada del sitio web"
   ]
  },
  {
   "cell_type": "code",
   "execution_count": 30,
   "metadata": {},
   "outputs": [
    {
     "data": {
      "text/html": [
       "<div>\n",
       "<style scoped>\n",
       "    .dataframe tbody tr th:only-of-type {\n",
       "        vertical-align: middle;\n",
       "    }\n",
       "\n",
       "    .dataframe tbody tr th {\n",
       "        vertical-align: top;\n",
       "    }\n",
       "\n",
       "    .dataframe thead th {\n",
       "        text-align: right;\n",
       "    }\n",
       "</style>\n",
       "<table border=\"1\" class=\"dataframe\">\n",
       "  <thead>\n",
       "    <tr style=\"text-align: right;\">\n",
       "      <th></th>\n",
       "      <th>Store Number</th>\n",
       "      <th>ruta</th>\n",
       "      <th>SEMANA</th>\n",
       "      <th>Arete Score</th>\n",
       "      <th>Cabecera Score</th>\n",
       "      <th>Exhibidores Score</th>\n",
       "      <th>Isla Score</th>\n",
       "      <th>Mamut Score</th>\n",
       "      <th>Pallet Score</th>\n",
       "      <th>Pastelero Score</th>\n",
       "      <th>PDQ Score</th>\n",
       "      <th>Total Score</th>\n",
       "    </tr>\n",
       "  </thead>\n",
       "  <tbody>\n",
       "    <tr>\n",
       "      <th>0</th>\n",
       "      <td>29</td>\n",
       "      <td>PROM.SEM.34</td>\n",
       "      <td>22</td>\n",
       "      <td>0</td>\n",
       "      <td>0</td>\n",
       "      <td>0</td>\n",
       "      <td>0</td>\n",
       "      <td>0</td>\n",
       "      <td>3</td>\n",
       "      <td>0</td>\n",
       "      <td>0</td>\n",
       "      <td>3</td>\n",
       "    </tr>\n",
       "    <tr>\n",
       "      <th>1</th>\n",
       "      <td>30</td>\n",
       "      <td>PROM.SEM.145</td>\n",
       "      <td>22</td>\n",
       "      <td>0</td>\n",
       "      <td>0</td>\n",
       "      <td>0</td>\n",
       "      <td>0</td>\n",
       "      <td>0</td>\n",
       "      <td>9</td>\n",
       "      <td>0</td>\n",
       "      <td>0</td>\n",
       "      <td>9</td>\n",
       "    </tr>\n",
       "    <tr>\n",
       "      <th>2</th>\n",
       "      <td>33</td>\n",
       "      <td>PROM.SEM.313</td>\n",
       "      <td>22</td>\n",
       "      <td>0</td>\n",
       "      <td>0</td>\n",
       "      <td>0</td>\n",
       "      <td>0</td>\n",
       "      <td>0</td>\n",
       "      <td>3</td>\n",
       "      <td>0</td>\n",
       "      <td>0</td>\n",
       "      <td>3</td>\n",
       "    </tr>\n",
       "    <tr>\n",
       "      <th>3</th>\n",
       "      <td>36</td>\n",
       "      <td>PROM.SEM.332</td>\n",
       "      <td>22</td>\n",
       "      <td>0</td>\n",
       "      <td>0</td>\n",
       "      <td>0</td>\n",
       "      <td>0</td>\n",
       "      <td>0</td>\n",
       "      <td>3</td>\n",
       "      <td>0</td>\n",
       "      <td>0</td>\n",
       "      <td>3</td>\n",
       "    </tr>\n",
       "    <tr>\n",
       "      <th>4</th>\n",
       "      <td>37</td>\n",
       "      <td>PROM.SEM.65</td>\n",
       "      <td>22</td>\n",
       "      <td>0</td>\n",
       "      <td>0</td>\n",
       "      <td>0</td>\n",
       "      <td>0</td>\n",
       "      <td>0</td>\n",
       "      <td>3</td>\n",
       "      <td>0</td>\n",
       "      <td>0</td>\n",
       "      <td>3</td>\n",
       "    </tr>\n",
       "  </tbody>\n",
       "</table>\n",
       "</div>"
      ],
      "text/plain": [
       "   Store Number          ruta  SEMANA  Arete Score  Cabecera Score  \\\n",
       "0            29   PROM.SEM.34      22            0               0   \n",
       "1            30  PROM.SEM.145      22            0               0   \n",
       "2            33  PROM.SEM.313      22            0               0   \n",
       "3            36  PROM.SEM.332      22            0               0   \n",
       "4            37   PROM.SEM.65      22            0               0   \n",
       "\n",
       "   Exhibidores Score  Isla Score  Mamut Score  Pallet Score  Pastelero Score  \\\n",
       "0                  0           0            0             3                0   \n",
       "1                  0           0            0             9                0   \n",
       "2                  0           0            0             3                0   \n",
       "3                  0           0            0             3                0   \n",
       "4                  0           0            0             3                0   \n",
       "\n",
       "   PDQ Score  Total Score  \n",
       "0          0            3  \n",
       "1          0            9  \n",
       "2          0            3  \n",
       "3          0            3  \n",
       "4          0            3  "
      ]
     },
     "execution_count": 30,
     "metadata": {},
     "output_type": "execute_result"
    }
   ],
   "source": [
    "df_score.head()"
   ]
  },
  {
   "cell_type": "code",
   "execution_count": 33,
   "metadata": {},
   "outputs": [],
   "source": [
    "df_leaderboard = df_leaderboard.rename(columns={\n",
    "'Final Score': 'fs'\n",
    "})"
   ]
  },
  {
   "cell_type": "code",
   "execution_count": 34,
   "metadata": {},
   "outputs": [],
   "source": [
    "df_score = df_score.rename(columns={\n",
    "'Store Number': 'store',\n",
    "'SEMANA': 'week',\n",
    "'Arete Score': 'arete',\n",
    "'Cabecera Score': 'cabecera',\n",
    "'Exhibidores Score': 'exhibidores',\n",
    "'Isla Score': 'isla',\n",
    "'Mamut Score': 'mamut',\n",
    "'Pallet Score': 'pallet',\n",
    "'Pastelero Score': 'pastelero',\n",
    "'PDQ Score': 'pdq',\n",
    "'Total Score': 'score'\n",
    "})"
   ]
  },
  {
   "cell_type": "code",
   "execution_count": 35,
   "metadata": {},
   "outputs": [],
   "source": [
    "df2_store_names = df2[['Store Number','Store Name']]"
   ]
  },
  {
   "cell_type": "code",
   "execution_count": 36,
   "metadata": {},
   "outputs": [],
   "source": [
    "df2_store_names = df2_store_names.rename(columns={\n",
    "'Store Number': 'store',\n",
    "'Store Name': 'name'\n",
    "})"
   ]
  },
  {
   "cell_type": "code",
   "execution_count": 37,
   "metadata": {},
   "outputs": [],
   "source": [
    "df2_store_names = df2_store_names.drop_duplicates(subset='store')"
   ]
  },
  {
   "cell_type": "code",
   "execution_count": 38,
   "metadata": {},
   "outputs": [],
   "source": [
    "df_score = df_score.merge(df2_store_names, how='left')"
   ]
  },
  {
   "cell_type": "code",
   "execution_count": 40,
   "metadata": {},
   "outputs": [],
   "source": [
    "df_score = df_score[['name','ruta','week','arete','cabecera','exhibidores','isla','mamut','pallet','pastelero','pdq','score']]"
   ]
  },
  {
   "cell_type": "code",
   "execution_count": null,
   "metadata": {},
   "outputs": [],
   "source": [
    "#aquí puedes agregar pasos para consolidar, o no jeje"
   ]
  },
  {
   "cell_type": "code",
   "execution_count": 41,
   "metadata": {},
   "outputs": [],
   "source": [
    "df_leaderboard.to_json('leaderboard.js', orient='records')"
   ]
  },
  {
   "cell_type": "code",
   "execution_count": 42,
   "metadata": {},
   "outputs": [],
   "source": [
    "df_score.to_json('score.js', orient='records')"
   ]
  },
  {
   "cell_type": "code",
   "execution_count": null,
   "metadata": {},
   "outputs": [],
   "source": []
  }
 ],
 "metadata": {
  "kernelspec": {
   "display_name": "Python 3",
   "language": "python",
   "name": "python3"
  },
  "language_info": {
   "codemirror_mode": {
    "name": "ipython",
    "version": 3
   },
   "file_extension": ".py",
   "mimetype": "text/x-python",
   "name": "python",
   "nbconvert_exporter": "python",
   "pygments_lexer": "ipython3",
   "version": "3.8.3"
  }
 },
 "nbformat": 4,
 "nbformat_minor": 4
}
